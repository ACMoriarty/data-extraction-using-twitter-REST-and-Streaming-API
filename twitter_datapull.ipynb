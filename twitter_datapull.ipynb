{
 "cells": [
  {
   "cell_type": "code",
   "execution_count": 1,
   "metadata": {},
   "outputs": [],
   "source": [
    "import json\n",
    "import tweepy\n",
    "import dataset\n",
    "\n",
    "API_KEY = ''\n",
    "API_SECRET = ''\n",
    "TOKEN_KEY = ''\n",
    "TOKEN_SECRET = ''\n",
    "\n",
    "\n"
   ]
  },
  {
   "cell_type": "markdown",
   "metadata": {},
   "source": [
    "### Execute multiple queries at a time from Twitter’s REST API "
   ]
  },
  {
   "cell_type": "code",
   "execution_count": null,
   "metadata": {},
   "outputs": [],
   "source": [
    "# Create the api endpoint\n",
    "\n",
    "auth = tweepy.OAuthHandler(API_KEY, API_SECRET)\n",
    "auth.set_access_token(TOKEN_KEY, TOKEN_SECRET)\n",
    "api = tweepy.API(auth)\n",
    "\n",
    "# Mention the maximum number of tweets that you want to be extracted.\n",
    "\n",
    "maximum_number_of_tweets_to_be_extracted = int(input('Enter the number of tweets that you want to extract- '))\n",
    "\n",
    "# Mention the hashtag that you want to look out for\n",
    "\n",
    "hashtags = input('Enter the hashtags you want to scrape separated with "OR"- ')\n",
    "\n",
    "for tweet in tweepy.Cursor(api.search, q=hashtags).items(maximum_number_of_tweets_to_be_extracted):\n",
    "    with open('tweets_with_hashtags_#' + hashtags + '.txt', 'a') as the_file:\n",
    "        the_file.write(str(tweet.text.encode('utf-8')) + '\\n')\n",
    "    print(str(tweet.text.encode('utf-8')) + '\\n')\n",
    "\n",
    "print ('Extracted ' + str(maximum_number_of_tweets_to_be_extracted) + ' tweets with hashtags #' + hashtags)\n",
    "\n"
   ]
  },
  {
   "cell_type": "markdown",
   "metadata": {},
   "source": [
    "### Doing a Single Data Pull fom Twitter's REST API"
   ]
  },
  {
   "cell_type": "code",
   "execution_count": null,
   "metadata": {},
   "outputs": [],
   "source": [
    "# Create the api endpoint\n",
    "\n",
    "auth = tweepy.OAuthHandler(API_KEY, API_SECRET)\n",
    "auth.set_access_token(TOKEN_KEY, TOKEN_SECRET)\n",
    "api = tweepy.API(auth)\n",
    "\n",
    "# Mention the maximum number of tweets that you want to be extracted.\n",
    "\n",
    "maximum_number_of_tweets_to_be_extracted = int(input('Enter the number of tweets that you want to extract- '))\n",
    "\n",
    "# Mention the hashtag that you want to look out for\n",
    "\n",
    "hashtag = input('Enter the hashtag you want to scrape- ')\n",
    "\n",
    "for tweet in tweepy.Cursor(api.search, q='#' + hashtag,rpp=100).items(maximum_number_of_tweets_to_be_extracted):\n",
    "    with open('tweets_with_hashtag_#' + hashtag + '.txt', 'a') as the_file:\n",
    "        the_file.write(str(tweet.text.encode('utf-8')) + '\\n')\n",
    "    print(str(tweet.text.encode('utf-8')) + '\\n')\n",
    "\n",
    "print ('Extracted ' + str(maximum_number_of_tweets_to_be_extracted) + ' tweets with hashtag #' + hashtag)\n"
   ]
  },
  {
   "cell_type": "markdown",
   "metadata": {},
   "source": [
    "### Data pull from Twitter’s Streaming API"
   ]
  },
  {
   "cell_type": "code",
   "execution_count": null,
   "metadata": {},
   "outputs": [],
   "source": [
    "from tweepy.streaming import StreamListener \n",
    "from tweepy import OAuthHandler, Stream\n",
    "\n",
    "class Listener(StreamListener):\n",
    "    def on_data(self, data): \n",
    "        for i in data:\n",
    "            print(i)\n",
    "        return True\n",
    "\n",
    "auth = OAuthHandler(API_KEY, API_SECRET)\n",
    "auth.set_access_token(TOKEN_KEY, TOKEN_SECRET)\n",
    "stream = Stream(auth, Listener())\n",
    "stream.filter(track=['barcelona'])"
   ]
  },
  {
   "cell_type": "code",
   "execution_count": null,
   "metadata": {},
   "outputs": [],
   "source": []
  }
 ],
 "metadata": {
  "kernelspec": {
   "display_name": "Python 3",
   "language": "python",
   "name": "python3"
  },
  "language_info": {
   "codemirror_mode": {
    "name": "ipython",
    "version": 3
   },
   "file_extension": ".py",
   "mimetype": "text/x-python",
   "name": "python",
   "nbconvert_exporter": "python",
   "pygments_lexer": "ipython3",
   "version": "3.7.1"
  }
 },
 "nbformat": 4,
 "nbformat_minor": 2
}
